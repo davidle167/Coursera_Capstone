{
 "cells": [
  {
   "cell_type": "markdown",
   "metadata": {},
   "source": [
    "# Data Science Capstone Project - Week 3 Assignment"
   ]
  },
  {
   "cell_type": "code",
   "execution_count": null,
   "metadata": {},
   "outputs": [],
   "source": []
  },
  {
   "cell_type": "markdown",
   "metadata": {},
   "source": [
    "## Table of Contents\n",
    "\n",
    "<div class=\"alert alert-block alert-info\" style=\"margin-top: 20px\">\n",
    "\n",
    "<font size = 3>\n",
    "\n",
    "1. <a href=\"#item1\">Download Dependencies</a>\n",
    "\n",
    "2. <a href=\"#item2\">Scrape and Parse Table</a>\n",
    "\n",
    "3. <a href=\"#item3\">Dataframe after Screenscrape (First Submission)</a>\n",
    "\n",
    "4. <a href=\"#item4\">Gather Latitude and Longitude (Second Submission)</a>\n",
    "\n",
    "5. <a href=\"#item5\">Explore Toronto Neighborhoods (Third Submission)</a>\n",
    "\n",
    "</font>\n",
    "</div>"
   ]
  },
  {
   "cell_type": "markdown",
   "metadata": {},
   "source": [
    "<a id='item1'></a>"
   ]
  },
  {
   "cell_type": "markdown",
   "metadata": {},
   "source": [
    "## Download Dependencies"
   ]
  },
  {
   "cell_type": "code",
   "execution_count": 1,
   "metadata": {},
   "outputs": [],
   "source": [
    "import numpy as np # library to handle data in a vectorized manner\n",
    "import pandas as pd # library for data analsysis\n"
   ]
  },
  {
   "cell_type": "code",
   "execution_count": 2,
   "metadata": {},
   "outputs": [],
   "source": [
    "# Install Beautiful Soup\n",
    "#from bs4 import BeautifulSoup\n",
    "\n",
    "## Beautiful Soup not used - opted to use pandas read instead"
   ]
  },
  {
   "cell_type": "code",
   "execution_count": 3,
   "metadata": {},
   "outputs": [],
   "source": [
    "## Beautiful Soup not used - opted to use pandas read instead\n",
    "#Get Toronto Data: Postal Codes starting with 'M'\n",
    "#import urllib2 #enable ability to read URLs\n",
    "#from urllib.request import urlopen #enable ability to read URLs\n",
    "\n",
    "#postal_url = 'https://en.wikipedia.org/wiki/List_of_postal_codes_of_Canada:_M'\n",
    "\n",
    "#page = urlopen(postal_url).read()\n",
    "#soup = BeautifulSoup(page, 'html.parser')\n",
    "\n",
    "#postal_frame = []\n",
    "#postal_table =  soup.find('table', {'class': 'wikitable sortable'})\n",
    "\n",
    "#rows = postal_table.findAll('tr')\n",
    "#for row in rows:\n",
    "#    cols=row.findAll('td')\n",
    "#    cols=[ele.text.strip() for ele in cols]\n",
    "#    postal_frame.append([ele for ele in cols if ele])\n",
    "\n",
    "##postal_frame.shape\n",
    "##postal_table"
   ]
  },
  {
   "cell_type": "markdown",
   "metadata": {},
   "source": [
    "<a id='item2'></a>"
   ]
  },
  {
   "cell_type": "markdown",
   "metadata": {},
   "source": [
    "## Scrape and Parse Table using pandas"
   ]
  },
  {
   "cell_type": "code",
   "execution_count": 4,
   "metadata": {},
   "outputs": [
    {
     "data": {
      "text/plain": [
       "(288, 3)"
      ]
     },
     "execution_count": 4,
     "metadata": {},
     "output_type": "execute_result"
    }
   ],
   "source": [
    "#Get Toronto Data: Postal Codes starting with 'M' using pandas.read\n",
    "#import urllib2 #enable ability to read URLs\n",
    "\n",
    "import requests\n",
    "postal_url = 'https://en.wikipedia.org/wiki/List_of_postal_codes_of_Canada:_M'\n",
    "\n",
    "page = requests.get(postal_url)\n",
    "\n",
    "postal_frame = pd.read_html(page.content,attrs = {'class': 'wikitable sortable'})[0]\n",
    "\n",
    "\n",
    "postal_frame.shape\n"
   ]
  },
  {
   "cell_type": "code",
   "execution_count": 5,
   "metadata": {},
   "outputs": [
    {
     "data": {
      "text/html": [
       "<div>\n",
       "<style scoped>\n",
       "    .dataframe tbody tr th:only-of-type {\n",
       "        vertical-align: middle;\n",
       "    }\n",
       "\n",
       "    .dataframe tbody tr th {\n",
       "        vertical-align: top;\n",
       "    }\n",
       "\n",
       "    .dataframe thead th {\n",
       "        text-align: right;\n",
       "    }\n",
       "</style>\n",
       "<table border=\"1\" class=\"dataframe\">\n",
       "  <thead>\n",
       "    <tr style=\"text-align: right;\">\n",
       "      <th></th>\n",
       "      <th>Postcode</th>\n",
       "      <th>Borough</th>\n",
       "      <th>Neighbourhood</th>\n",
       "    </tr>\n",
       "  </thead>\n",
       "  <tbody>\n",
       "    <tr>\n",
       "      <td>0</td>\n",
       "      <td>M1A</td>\n",
       "      <td>Not assigned</td>\n",
       "      <td>Not assigned</td>\n",
       "    </tr>\n",
       "    <tr>\n",
       "      <td>1</td>\n",
       "      <td>M2A</td>\n",
       "      <td>Not assigned</td>\n",
       "      <td>Not assigned</td>\n",
       "    </tr>\n",
       "    <tr>\n",
       "      <td>2</td>\n",
       "      <td>M3A</td>\n",
       "      <td>North York</td>\n",
       "      <td>Parkwoods</td>\n",
       "    </tr>\n",
       "    <tr>\n",
       "      <td>3</td>\n",
       "      <td>M4A</td>\n",
       "      <td>North York</td>\n",
       "      <td>Victoria Village</td>\n",
       "    </tr>\n",
       "    <tr>\n",
       "      <td>4</td>\n",
       "      <td>M5A</td>\n",
       "      <td>Downtown Toronto</td>\n",
       "      <td>Harbourfront</td>\n",
       "    </tr>\n",
       "  </tbody>\n",
       "</table>\n",
       "</div>"
      ],
      "text/plain": [
       "  Postcode           Borough     Neighbourhood\n",
       "0      M1A      Not assigned      Not assigned\n",
       "1      M2A      Not assigned      Not assigned\n",
       "2      M3A        North York         Parkwoods\n",
       "3      M4A        North York  Victoria Village\n",
       "4      M5A  Downtown Toronto      Harbourfront"
      ]
     },
     "execution_count": 5,
     "metadata": {},
     "output_type": "execute_result"
    }
   ],
   "source": [
    "postal_frame.head()"
   ]
  },
  {
   "cell_type": "code",
   "execution_count": 8,
   "metadata": {},
   "outputs": [],
   "source": [
    "# Process dataframe\n",
    "#Remove Borough 'Not assigned' rows\n",
    "postal_frame_clean = postal_frame.drop(postal_frame[postal_frame.Borough == 'Not assigned'].index)\n",
    "\n",
    "#Change Neighborhood to match Borough if Neighborhood = 'Not assigned'\n",
    "postal_frame_clean['Neighbourhood'][postal_frame_clean['Neighbourhood'] == 'Not assigned'] = postal_frame_clean['Borough']\n",
    "\n",
    "#Combine multiple neighborhoods from the same Burough into one row\n",
    "postal_frame_clean = postal_frame_clean.groupby(['Postcode','Borough'])['Neighbourhood'].apply(','.join).reset_index()\n",
    "\n",
    "#Rename Postcode Field to PostalCode\n",
    "postal_frame_clean.rename(columns={'Postcode': 'PostalCode'}, inplace=True)\n",
    "\n",
    "#postal_frame_clean.head()"
   ]
  },
  {
   "cell_type": "markdown",
   "metadata": {},
   "source": [
    "<a id='item3'></a>"
   ]
  },
  {
   "cell_type": "markdown",
   "metadata": {},
   "source": [
    "## Answer to Question 3 (First Submission)"
   ]
  },
  {
   "cell_type": "code",
   "execution_count": 9,
   "metadata": {},
   "outputs": [
    {
     "data": {
      "text/plain": [
       "(103, 3)"
      ]
     },
     "execution_count": 9,
     "metadata": {},
     "output_type": "execute_result"
    }
   ],
   "source": [
    "\n",
    "postal_frame_clean.shape\n"
   ]
  },
  {
   "cell_type": "markdown",
   "metadata": {},
   "source": [
    "<a id='item4'></a>"
   ]
  },
  {
   "cell_type": "markdown",
   "metadata": {},
   "source": [
    "## Gather Latitude and Longitude for each Postal code in our dataframe (Submission 2)"
   ]
  },
  {
   "cell_type": "raw",
   "metadata": {
    "jupyter": {
     "outputs_hidden": true
    }
   },
   "source": [
    "#Install Geocoder\n",
    "#! pip install geocoder #uncomment this line if geocoder is not already installed"
   ]
  },
  {
   "cell_type": "code",
   "execution_count": null,
   "metadata": {},
   "outputs": [],
   "source": [
    "#Geocoder didn't work so using the file that was provided in class\n",
    "\n",
    "#import geocoder # import geocoder\n",
    "#postal_code = 'M5G'\n",
    "## initialize your variable to None\n",
    "#lat_lng_coords = None\n",
    "\n",
    "## loop until you get the coordinates\n",
    "#while(lat_lng_coords is None):\n",
    "#  g = geocoder.google('{}, Toronto, Ontario'.format(postal_code))\n",
    "#  lat_lng_coords = g.latlng\n",
    "\n",
    "#latitude = lat_lng_coords[0]\n",
    "#longitude = lat_lng_coords[1]"
   ]
  },
  {
   "cell_type": "code",
   "execution_count": 11,
   "metadata": {},
   "outputs": [],
   "source": [
    "#Read File provided with Coordinates for each postal code\n",
    "\n",
    "coords_file = r'Geospatial_Coordinates.csv'\n",
    "coords = pd.read_csv(coords_file)\n",
    "\n",
    "coords.rename(columns={'Postal Code': 'PostalCode'}, inplace=True)"
   ]
  },
  {
   "cell_type": "code",
   "execution_count": 12,
   "metadata": {},
   "outputs": [
    {
     "data": {
      "text/html": [
       "<div>\n",
       "<style scoped>\n",
       "    .dataframe tbody tr th:only-of-type {\n",
       "        vertical-align: middle;\n",
       "    }\n",
       "\n",
       "    .dataframe tbody tr th {\n",
       "        vertical-align: top;\n",
       "    }\n",
       "\n",
       "    .dataframe thead th {\n",
       "        text-align: right;\n",
       "    }\n",
       "</style>\n",
       "<table border=\"1\" class=\"dataframe\">\n",
       "  <thead>\n",
       "    <tr style=\"text-align: right;\">\n",
       "      <th></th>\n",
       "      <th>PostalCode</th>\n",
       "      <th>Latitude</th>\n",
       "      <th>Longitude</th>\n",
       "    </tr>\n",
       "  </thead>\n",
       "  <tbody>\n",
       "    <tr>\n",
       "      <td>0</td>\n",
       "      <td>M1B</td>\n",
       "      <td>43.806686</td>\n",
       "      <td>-79.194353</td>\n",
       "    </tr>\n",
       "    <tr>\n",
       "      <td>1</td>\n",
       "      <td>M1C</td>\n",
       "      <td>43.784535</td>\n",
       "      <td>-79.160497</td>\n",
       "    </tr>\n",
       "    <tr>\n",
       "      <td>2</td>\n",
       "      <td>M1E</td>\n",
       "      <td>43.763573</td>\n",
       "      <td>-79.188711</td>\n",
       "    </tr>\n",
       "    <tr>\n",
       "      <td>3</td>\n",
       "      <td>M1G</td>\n",
       "      <td>43.770992</td>\n",
       "      <td>-79.216917</td>\n",
       "    </tr>\n",
       "    <tr>\n",
       "      <td>4</td>\n",
       "      <td>M1H</td>\n",
       "      <td>43.773136</td>\n",
       "      <td>-79.239476</td>\n",
       "    </tr>\n",
       "  </tbody>\n",
       "</table>\n",
       "</div>"
      ],
      "text/plain": [
       "  PostalCode   Latitude  Longitude\n",
       "0        M1B  43.806686 -79.194353\n",
       "1        M1C  43.784535 -79.160497\n",
       "2        M1E  43.763573 -79.188711\n",
       "3        M1G  43.770992 -79.216917\n",
       "4        M1H  43.773136 -79.239476"
      ]
     },
     "execution_count": 12,
     "metadata": {},
     "output_type": "execute_result"
    }
   ],
   "source": [
    "coords.head()"
   ]
  },
  {
   "cell_type": "code",
   "execution_count": 13,
   "metadata": {},
   "outputs": [
    {
     "data": {
      "text/plain": [
       "(103, 3)"
      ]
     },
     "execution_count": 13,
     "metadata": {},
     "output_type": "execute_result"
    }
   ],
   "source": [
    "coords.shape"
   ]
  },
  {
   "cell_type": "code",
   "execution_count": 15,
   "metadata": {},
   "outputs": [
    {
     "data": {
      "text/html": [
       "<div>\n",
       "<style scoped>\n",
       "    .dataframe tbody tr th:only-of-type {\n",
       "        vertical-align: middle;\n",
       "    }\n",
       "\n",
       "    .dataframe tbody tr th {\n",
       "        vertical-align: top;\n",
       "    }\n",
       "\n",
       "    .dataframe thead th {\n",
       "        text-align: right;\n",
       "    }\n",
       "</style>\n",
       "<table border=\"1\" class=\"dataframe\">\n",
       "  <thead>\n",
       "    <tr style=\"text-align: right;\">\n",
       "      <th></th>\n",
       "      <th>PostalCode</th>\n",
       "      <th>Borough</th>\n",
       "      <th>Neighbourhood</th>\n",
       "      <th>Latitude</th>\n",
       "      <th>Longitude</th>\n",
       "    </tr>\n",
       "  </thead>\n",
       "  <tbody>\n",
       "    <tr>\n",
       "      <td>0</td>\n",
       "      <td>M1B</td>\n",
       "      <td>Scarborough</td>\n",
       "      <td>Rouge,Malvern</td>\n",
       "      <td>43.806686</td>\n",
       "      <td>-79.194353</td>\n",
       "    </tr>\n",
       "    <tr>\n",
       "      <td>1</td>\n",
       "      <td>M1C</td>\n",
       "      <td>Scarborough</td>\n",
       "      <td>Highland Creek,Rouge Hill,Port Union</td>\n",
       "      <td>43.784535</td>\n",
       "      <td>-79.160497</td>\n",
       "    </tr>\n",
       "    <tr>\n",
       "      <td>2</td>\n",
       "      <td>M1E</td>\n",
       "      <td>Scarborough</td>\n",
       "      <td>Guildwood,Morningside,West Hill</td>\n",
       "      <td>43.763573</td>\n",
       "      <td>-79.188711</td>\n",
       "    </tr>\n",
       "    <tr>\n",
       "      <td>3</td>\n",
       "      <td>M1G</td>\n",
       "      <td>Scarborough</td>\n",
       "      <td>Woburn</td>\n",
       "      <td>43.770992</td>\n",
       "      <td>-79.216917</td>\n",
       "    </tr>\n",
       "    <tr>\n",
       "      <td>4</td>\n",
       "      <td>M1H</td>\n",
       "      <td>Scarborough</td>\n",
       "      <td>Cedarbrae</td>\n",
       "      <td>43.773136</td>\n",
       "      <td>-79.239476</td>\n",
       "    </tr>\n",
       "  </tbody>\n",
       "</table>\n",
       "</div>"
      ],
      "text/plain": [
       "  PostalCode      Borough                         Neighbourhood   Latitude  \\\n",
       "0        M1B  Scarborough                         Rouge,Malvern  43.806686   \n",
       "1        M1C  Scarborough  Highland Creek,Rouge Hill,Port Union  43.784535   \n",
       "2        M1E  Scarborough       Guildwood,Morningside,West Hill  43.763573   \n",
       "3        M1G  Scarborough                                Woburn  43.770992   \n",
       "4        M1H  Scarborough                             Cedarbrae  43.773136   \n",
       "\n",
       "   Longitude  \n",
       "0 -79.194353  \n",
       "1 -79.160497  \n",
       "2 -79.188711  \n",
       "3 -79.216917  \n",
       "4 -79.239476  "
      ]
     },
     "execution_count": 15,
     "metadata": {},
     "output_type": "execute_result"
    }
   ],
   "source": [
    "#add lat/longitude to the postal_frame_clean frame\n",
    "\n",
    "toronto_df = pd.merge(postal_frame_clean, coords, on = 'PostalCode' )\n",
    "toronto_df.head()\n"
   ]
  },
  {
   "cell_type": "code",
   "execution_count": 16,
   "metadata": {},
   "outputs": [
    {
     "data": {
      "text/html": [
       "<div>\n",
       "<style scoped>\n",
       "    .dataframe tbody tr th:only-of-type {\n",
       "        vertical-align: middle;\n",
       "    }\n",
       "\n",
       "    .dataframe tbody tr th {\n",
       "        vertical-align: top;\n",
       "    }\n",
       "\n",
       "    .dataframe thead th {\n",
       "        text-align: right;\n",
       "    }\n",
       "</style>\n",
       "<table border=\"1\" class=\"dataframe\">\n",
       "  <thead>\n",
       "    <tr style=\"text-align: right;\">\n",
       "      <th></th>\n",
       "      <th>PostalCode</th>\n",
       "      <th>Borough</th>\n",
       "      <th>Neighbourhood</th>\n",
       "      <th>Latitude</th>\n",
       "      <th>Longitude</th>\n",
       "    </tr>\n",
       "  </thead>\n",
       "  <tbody>\n",
       "    <tr>\n",
       "      <td>0</td>\n",
       "      <td>M1B</td>\n",
       "      <td>Scarborough</td>\n",
       "      <td>Rouge,Malvern</td>\n",
       "      <td>43.806686</td>\n",
       "      <td>-79.194353</td>\n",
       "    </tr>\n",
       "    <tr>\n",
       "      <td>1</td>\n",
       "      <td>M1C</td>\n",
       "      <td>Scarborough</td>\n",
       "      <td>Highland Creek,Rouge Hill,Port Union</td>\n",
       "      <td>43.784535</td>\n",
       "      <td>-79.160497</td>\n",
       "    </tr>\n",
       "    <tr>\n",
       "      <td>2</td>\n",
       "      <td>M1E</td>\n",
       "      <td>Scarborough</td>\n",
       "      <td>Guildwood,Morningside,West Hill</td>\n",
       "      <td>43.763573</td>\n",
       "      <td>-79.188711</td>\n",
       "    </tr>\n",
       "    <tr>\n",
       "      <td>3</td>\n",
       "      <td>M1G</td>\n",
       "      <td>Scarborough</td>\n",
       "      <td>Woburn</td>\n",
       "      <td>43.770992</td>\n",
       "      <td>-79.216917</td>\n",
       "    </tr>\n",
       "    <tr>\n",
       "      <td>4</td>\n",
       "      <td>M1H</td>\n",
       "      <td>Scarborough</td>\n",
       "      <td>Cedarbrae</td>\n",
       "      <td>43.773136</td>\n",
       "      <td>-79.239476</td>\n",
       "    </tr>\n",
       "    <tr>\n",
       "      <td>...</td>\n",
       "      <td>...</td>\n",
       "      <td>...</td>\n",
       "      <td>...</td>\n",
       "      <td>...</td>\n",
       "      <td>...</td>\n",
       "    </tr>\n",
       "    <tr>\n",
       "      <td>98</td>\n",
       "      <td>M9N</td>\n",
       "      <td>York</td>\n",
       "      <td>Weston</td>\n",
       "      <td>43.706876</td>\n",
       "      <td>-79.518188</td>\n",
       "    </tr>\n",
       "    <tr>\n",
       "      <td>99</td>\n",
       "      <td>M9P</td>\n",
       "      <td>Etobicoke</td>\n",
       "      <td>Westmount</td>\n",
       "      <td>43.696319</td>\n",
       "      <td>-79.532242</td>\n",
       "    </tr>\n",
       "    <tr>\n",
       "      <td>100</td>\n",
       "      <td>M9R</td>\n",
       "      <td>Etobicoke</td>\n",
       "      <td>Kingsview Village,Martin Grove Gardens,Richvie...</td>\n",
       "      <td>43.688905</td>\n",
       "      <td>-79.554724</td>\n",
       "    </tr>\n",
       "    <tr>\n",
       "      <td>101</td>\n",
       "      <td>M9V</td>\n",
       "      <td>Etobicoke</td>\n",
       "      <td>Albion Gardens,Beaumond Heights,Humbergate,Jam...</td>\n",
       "      <td>43.739416</td>\n",
       "      <td>-79.588437</td>\n",
       "    </tr>\n",
       "    <tr>\n",
       "      <td>102</td>\n",
       "      <td>M9W</td>\n",
       "      <td>Etobicoke</td>\n",
       "      <td>Northwest</td>\n",
       "      <td>43.706748</td>\n",
       "      <td>-79.594054</td>\n",
       "    </tr>\n",
       "  </tbody>\n",
       "</table>\n",
       "<p>103 rows × 5 columns</p>\n",
       "</div>"
      ],
      "text/plain": [
       "    PostalCode      Borough  \\\n",
       "0          M1B  Scarborough   \n",
       "1          M1C  Scarborough   \n",
       "2          M1E  Scarborough   \n",
       "3          M1G  Scarborough   \n",
       "4          M1H  Scarborough   \n",
       "..         ...          ...   \n",
       "98         M9N         York   \n",
       "99         M9P    Etobicoke   \n",
       "100        M9R    Etobicoke   \n",
       "101        M9V    Etobicoke   \n",
       "102        M9W    Etobicoke   \n",
       "\n",
       "                                         Neighbourhood   Latitude  Longitude  \n",
       "0                                        Rouge,Malvern  43.806686 -79.194353  \n",
       "1                 Highland Creek,Rouge Hill,Port Union  43.784535 -79.160497  \n",
       "2                      Guildwood,Morningside,West Hill  43.763573 -79.188711  \n",
       "3                                               Woburn  43.770992 -79.216917  \n",
       "4                                            Cedarbrae  43.773136 -79.239476  \n",
       "..                                                 ...        ...        ...  \n",
       "98                                              Weston  43.706876 -79.518188  \n",
       "99                                           Westmount  43.696319 -79.532242  \n",
       "100  Kingsview Village,Martin Grove Gardens,Richvie...  43.688905 -79.554724  \n",
       "101  Albion Gardens,Beaumond Heights,Humbergate,Jam...  43.739416 -79.588437  \n",
       "102                                          Northwest  43.706748 -79.594054  \n",
       "\n",
       "[103 rows x 5 columns]"
      ]
     },
     "execution_count": 16,
     "metadata": {},
     "output_type": "execute_result"
    }
   ],
   "source": [
    "toronto_df"
   ]
  },
  {
   "cell_type": "markdown",
   "metadata": {},
   "source": [
    "<a id='item5'></a>"
   ]
  },
  {
   "cell_type": "markdown",
   "metadata": {},
   "source": [
    "# Analysis of Toronto Neighborhoods (Submission 3)"
   ]
  },
  {
   "cell_type": "markdown",
   "metadata": {},
   "source": [
    "### Import modules needed for data exploration"
   ]
  },
  {
   "cell_type": "code",
   "execution_count": 21,
   "metadata": {},
   "outputs": [],
   "source": [
    "# Matplotlib and associated plotting modules\n",
    "import matplotlib.cm as cm\n",
    "import matplotlib.colors as colors\n",
    "\n",
    "# import k-means from clustering stage\n",
    "from sklearn.cluster import KMeans\n",
    "\n",
    "!conda install -c conda-forge folium=0.5.0 --yes \n",
    "\n",
    "import folium # map rendering library\n",
    "\n"
   ]
  },
  {
   "cell_type": "code",
   "execution_count": null,
   "metadata": {},
   "outputs": [],
   "source": []
  },
  {
   "cell_type": "code",
   "execution_count": 24,
   "metadata": {},
   "outputs": [
    {
     "data": {
      "text/html": [
       "<div style=\"width:100%;\"><div style=\"position:relative;width:100%;height:0;padding-bottom:60%;\"><iframe src=\"data:text/html;charset=utf-8;base64,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\" style=\"position:absolute;width:100%;height:100%;left:0;top:0;border:none !important;\" allowfullscreen webkitallowfullscreen mozallowfullscreen></iframe></div></div>"
      ],
      "text/plain": [
       "<folium.folium.Map at 0x1cc8ba708d0>"
      ]
     },
     "execution_count": 24,
     "metadata": {},
     "output_type": "execute_result"
    }
   ],
   "source": [
    "#Toronto Latitude/Longitude\n",
    "latitude = 43.653908\n",
    "longitude = -79.384293\n",
    "\n",
    "# create map of Toronto using latitude and longitude values\n",
    "map_toronto = folium.Map(location=[latitude, longitude], zoom_start=10)\n",
    "\n",
    "# add markers to map\n",
    "for lat, lng, borough, neighborhood in zip(toronto_df['Latitude'], toronto_df['Longitude'], toronto_df['Borough'], toronto_df['Neighbourhood']):\n",
    "    label = '{}, {}'.format(neighborhood, borough)\n",
    "    label = folium.Popup(label, parse_html=True)\n",
    "    folium.CircleMarker(\n",
    "        [lat, lng],\n",
    "        radius=5,\n",
    "        popup=label,\n",
    "        color='blue',\n",
    "        fill=True,\n",
    "        fill_color='#3186cc',\n",
    "        fill_opacity=0.7,\n",
    "        parse_html=False).add_to(map_toronto)  \n",
    "    \n",
    "map_toronto"
   ]
  },
  {
   "cell_type": "code",
   "execution_count": 26,
   "metadata": {},
   "outputs": [
    {
     "data": {
      "text/plain": [
       "<zip at 0x1cc8ba69e88>"
      ]
     },
     "execution_count": 26,
     "metadata": {},
     "output_type": "execute_result"
    }
   ],
   "source": [
    "zip(toronto_df['Latitude'], toronto_df['Longitude'], toronto_df['Borough'], toronto_df['Neighbourhood'])"
   ]
  },
  {
   "cell_type": "code",
   "execution_count": null,
   "metadata": {},
   "outputs": [],
   "source": []
  },
  {
   "cell_type": "code",
   "execution_count": null,
   "metadata": {},
   "outputs": [],
   "source": []
  },
  {
   "cell_type": "code",
   "execution_count": null,
   "metadata": {},
   "outputs": [],
   "source": []
  },
  {
   "cell_type": "markdown",
   "metadata": {},
   "source": [
    "## Explore DataNeighbourhood"
   ]
  },
  {
   "cell_type": "code",
   "execution_count": null,
   "metadata": {},
   "outputs": [],
   "source": []
  },
  {
   "cell_type": "code",
   "execution_count": null,
   "metadata": {},
   "outputs": [],
   "source": []
  },
  {
   "cell_type": "markdown",
   "metadata": {},
   "source": [
    "## Segment Data"
   ]
  },
  {
   "cell_type": "code",
   "execution_count": null,
   "metadata": {},
   "outputs": [],
   "source": []
  },
  {
   "cell_type": "code",
   "execution_count": null,
   "metadata": {},
   "outputs": [],
   "source": []
  },
  {
   "cell_type": "code",
   "execution_count": null,
   "metadata": {},
   "outputs": [],
   "source": []
  },
  {
   "cell_type": "code",
   "execution_count": null,
   "metadata": {},
   "outputs": [],
   "source": []
  },
  {
   "cell_type": "markdown",
   "metadata": {},
   "source": [
    "## Cluster Data"
   ]
  },
  {
   "cell_type": "code",
   "execution_count": null,
   "metadata": {},
   "outputs": [],
   "source": []
  },
  {
   "cell_type": "code",
   "execution_count": null,
   "metadata": {},
   "outputs": [],
   "source": []
  }
 ],
 "metadata": {
  "kernelspec": {
   "display_name": "Python 3",
   "language": "python",
   "name": "python3"
  },
  "language_info": {
   "codemirror_mode": {
    "name": "ipython",
    "version": 3
   },
   "file_extension": ".py",
   "mimetype": "text/x-python",
   "name": "python",
   "nbconvert_exporter": "python",
   "pygments_lexer": "ipython3",
   "version": "3.6.9"
  }
 },
 "nbformat": 4,
 "nbformat_minor": 4
}
