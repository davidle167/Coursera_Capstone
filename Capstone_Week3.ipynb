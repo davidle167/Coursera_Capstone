{
 "cells": [
  {
   "cell_type": "markdown",
   "metadata": {},
   "source": [
    "# Data Science Capstone Project - Week 3 Assignment"
   ]
  },
  {
   "cell_type": "code",
   "execution_count": null,
   "metadata": {},
   "outputs": [],
   "source": []
  },
  {
   "cell_type": "markdown",
   "metadata": {},
   "source": [
    "## Table of Contents\n",
    "\n",
    "<div class=\"alert alert-block alert-info\" style=\"margin-top: 20px\">\n",
    "\n",
    "<font size = 3>\n",
    "\n",
    "1. <a href=\"#item1\">Download Dependencies</a>\n",
    "\n",
    "2. <a href=\"#item2\">Scrape and Parse Table</a>\n",
    "\n",
    "3. <a href=\"#item3\">Dataframe after Screenscrape (First Submission)</a>\n",
    "\n",
    "4. <a href=\"#item4\">Gather Latitude and Longitude (Second Submission)</a>\n",
    "\n",
    "5. <a href=\"#item5\">Explore Toronto Neighborhoods (Third Submission)</a>\n",
    "\n",
    "</font>\n",
    "</div>"
   ]
  },
  {
   "cell_type": "markdown",
   "metadata": {},
   "source": [
    "<a id='item1'></a>"
   ]
  },
  {
   "cell_type": "markdown",
   "metadata": {},
   "source": [
    "## Download Dependencies"
   ]
  },
  {
   "cell_type": "code",
   "execution_count": 2,
   "metadata": {},
   "outputs": [],
   "source": [
    "import numpy as np # library to handle data in a vectorized manner\n",
    "import pandas as pd # library for data analsysis\n"
   ]
  },
  {
   "cell_type": "code",
   "execution_count": 3,
   "metadata": {},
   "outputs": [],
   "source": [
    "# Install Beautiful Soup\n",
    "#from bs4 import BeautifulSoup\n",
    "\n",
    "## Beautiful Soup not used - opted to use pandas read instead"
   ]
  },
  {
   "cell_type": "code",
   "execution_count": 4,
   "metadata": {},
   "outputs": [],
   "source": [
    "## Beautiful Soup not used - opted to use pandas read instead\n",
    "#Get Toronto Data: Postal Codes starting with 'M'\n",
    "#import urllib2 #enable ability to read URLs\n",
    "#from urllib.request import urlopen #enable ability to read URLs\n",
    "\n",
    "#postal_url = 'https://en.wikipedia.org/wiki/List_of_postal_codes_of_Canada:_M'\n",
    "\n",
    "#page = urlopen(postal_url).read()\n",
    "#soup = BeautifulSoup(page, 'html.parser')\n",
    "\n",
    "#postal_frame = []\n",
    "#postal_table =  soup.find('table', {'class': 'wikitable sortable'})\n",
    "\n",
    "#rows = postal_table.findAll('tr')\n",
    "#for row in rows:\n",
    "#    cols=row.findAll('td')\n",
    "#    cols=[ele.text.strip() for ele in cols]\n",
    "#    postal_frame.append([ele for ele in cols if ele])\n",
    "\n",
    "##postal_frame.shape\n",
    "##postal_table"
   ]
  },
  {
   "cell_type": "markdown",
   "metadata": {},
   "source": [
    "<a id='item2'></a>"
   ]
  },
  {
   "cell_type": "markdown",
   "metadata": {},
   "source": [
    "## Scrape and Parse Table using pandas"
   ]
  },
  {
   "cell_type": "code",
   "execution_count": 5,
   "metadata": {},
   "outputs": [
    {
     "data": {
      "text/plain": [
       "(288, 3)"
      ]
     },
     "execution_count": 5,
     "metadata": {},
     "output_type": "execute_result"
    }
   ],
   "source": [
    "#Get Toronto Data: Postal Codes starting with 'M' using pandas.read\n",
    "#import urllib2 #enable ability to read URLs\n",
    "\n",
    "import requests\n",
    "postal_url = 'https://en.wikipedia.org/wiki/List_of_postal_codes_of_Canada:_M'\n",
    "\n",
    "page = requests.get(postal_url)\n",
    "\n",
    "postal_frame = pd.read_html(page.content,attrs = {'class': 'wikitable sortable'})[0]\n",
    "\n",
    "\n",
    "postal_frame.shape\n"
   ]
  },
  {
   "cell_type": "code",
   "execution_count": 6,
   "metadata": {},
   "outputs": [
    {
     "data": {
      "text/html": [
       "<div>\n",
       "<style scoped>\n",
       "    .dataframe tbody tr th:only-of-type {\n",
       "        vertical-align: middle;\n",
       "    }\n",
       "\n",
       "    .dataframe tbody tr th {\n",
       "        vertical-align: top;\n",
       "    }\n",
       "\n",
       "    .dataframe thead th {\n",
       "        text-align: right;\n",
       "    }\n",
       "</style>\n",
       "<table border=\"1\" class=\"dataframe\">\n",
       "  <thead>\n",
       "    <tr style=\"text-align: right;\">\n",
       "      <th></th>\n",
       "      <th>Postcode</th>\n",
       "      <th>Borough</th>\n",
       "      <th>Neighbourhood</th>\n",
       "    </tr>\n",
       "  </thead>\n",
       "  <tbody>\n",
       "    <tr>\n",
       "      <td>0</td>\n",
       "      <td>M1A</td>\n",
       "      <td>Not assigned</td>\n",
       "      <td>Not assigned</td>\n",
       "    </tr>\n",
       "    <tr>\n",
       "      <td>1</td>\n",
       "      <td>M2A</td>\n",
       "      <td>Not assigned</td>\n",
       "      <td>Not assigned</td>\n",
       "    </tr>\n",
       "    <tr>\n",
       "      <td>2</td>\n",
       "      <td>M3A</td>\n",
       "      <td>North York</td>\n",
       "      <td>Parkwoods</td>\n",
       "    </tr>\n",
       "    <tr>\n",
       "      <td>3</td>\n",
       "      <td>M4A</td>\n",
       "      <td>North York</td>\n",
       "      <td>Victoria Village</td>\n",
       "    </tr>\n",
       "    <tr>\n",
       "      <td>4</td>\n",
       "      <td>M5A</td>\n",
       "      <td>Downtown Toronto</td>\n",
       "      <td>Harbourfront</td>\n",
       "    </tr>\n",
       "  </tbody>\n",
       "</table>\n",
       "</div>"
      ],
      "text/plain": [
       "  Postcode           Borough     Neighbourhood\n",
       "0      M1A      Not assigned      Not assigned\n",
       "1      M2A      Not assigned      Not assigned\n",
       "2      M3A        North York         Parkwoods\n",
       "3      M4A        North York  Victoria Village\n",
       "4      M5A  Downtown Toronto      Harbourfront"
      ]
     },
     "execution_count": 6,
     "metadata": {},
     "output_type": "execute_result"
    }
   ],
   "source": [
    "postal_frame.head()"
   ]
  },
  {
   "cell_type": "code",
   "execution_count": 7,
   "metadata": {},
   "outputs": [],
   "source": [
    "# Process dataframe\n",
    "#Remove Borough 'Not assigned' rows\n",
    "postal_frame_clean = postal_frame.drop(postal_frame[postal_frame.Borough == 'Not assigned'].index)\n",
    "\n",
    "#Change Neighborhood to match Borough if Neighborhood = 'Not assigned'\n",
    "postal_frame_clean['Neighbourhood'][postal_frame_clean['Neighbourhood'] == 'Not assigned'] = postal_frame_clean['Borough']\n",
    "\n",
    "#Combine multiple neighborhoods from the same Burough into one row\n",
    "postal_frame_clean = postal_frame_clean.groupby(['Postcode','Borough'])['Neighbourhood'].apply(','.join).reset_index()\n",
    "\n",
    "#Rename Postcode Field to PostalCode\n",
    "postal_frame_clean.rename(columns={'Postcode': 'PostalCode'}, inplace=True)\n",
    "\n",
    "#postal_frame_clean.head()"
   ]
  },
  {
   "cell_type": "markdown",
   "metadata": {},
   "source": [
    "<a id='item3'></a>"
   ]
  },
  {
   "cell_type": "markdown",
   "metadata": {},
   "source": [
    "## Answer to Question 3 (First Submission)"
   ]
  },
  {
   "cell_type": "code",
   "execution_count": 8,
   "metadata": {},
   "outputs": [
    {
     "data": {
      "text/plain": [
       "(103, 3)"
      ]
     },
     "execution_count": 8,
     "metadata": {},
     "output_type": "execute_result"
    }
   ],
   "source": [
    "\n",
    "postal_frame_clean.shape\n"
   ]
  },
  {
   "cell_type": "markdown",
   "metadata": {},
   "source": [
    "<a id='item4'></a>"
   ]
  },
  {
   "cell_type": "markdown",
   "metadata": {},
   "source": [
    "## Gather Latitude and Longitude for each Postal code in our dataframe (Submission 2)"
   ]
  },
  {
   "cell_type": "raw",
   "metadata": {
    "jupyter": {
     "outputs_hidden": true
    }
   },
   "source": [
    "#Install Geocoder\n",
    "#! pip install geocoder #uncomment this line if geocoder is not already installed"
   ]
  },
  {
   "cell_type": "code",
   "execution_count": 9,
   "metadata": {},
   "outputs": [],
   "source": [
    "#Geocoder didn't work so using the file that was provided in class\n",
    "\n",
    "#import geocoder # import geocoder\n",
    "#postal_code = 'M5G'\n",
    "## initialize your variable to None\n",
    "#lat_lng_coords = None\n",
    "\n",
    "## loop until you get the coordinates\n",
    "#while(lat_lng_coords is None):\n",
    "#  g = geocoder.google('{}, Toronto, Ontario'.format(postal_code))\n",
    "#  lat_lng_coords = g.latlng\n",
    "\n",
    "#latitude = lat_lng_coords[0]\n",
    "#longitude = lat_lng_coords[1]"
   ]
  },
  {
   "cell_type": "code",
   "execution_count": 10,
   "metadata": {},
   "outputs": [],
   "source": [
    "#Read File provided with Coordinates for each postal code\n",
    "\n",
    "coords_file = r'Geospatial_Coordinates.csv'\n",
    "coords = pd.read_csv(coords_file)\n",
    "\n",
    "coords.rename(columns={'Postal Code': 'PostalCode'}, inplace=True)"
   ]
  },
  {
   "cell_type": "code",
   "execution_count": 11,
   "metadata": {},
   "outputs": [
    {
     "data": {
      "text/html": [
       "<div>\n",
       "<style scoped>\n",
       "    .dataframe tbody tr th:only-of-type {\n",
       "        vertical-align: middle;\n",
       "    }\n",
       "\n",
       "    .dataframe tbody tr th {\n",
       "        vertical-align: top;\n",
       "    }\n",
       "\n",
       "    .dataframe thead th {\n",
       "        text-align: right;\n",
       "    }\n",
       "</style>\n",
       "<table border=\"1\" class=\"dataframe\">\n",
       "  <thead>\n",
       "    <tr style=\"text-align: right;\">\n",
       "      <th></th>\n",
       "      <th>PostalCode</th>\n",
       "      <th>Latitude</th>\n",
       "      <th>Longitude</th>\n",
       "    </tr>\n",
       "  </thead>\n",
       "  <tbody>\n",
       "    <tr>\n",
       "      <td>0</td>\n",
       "      <td>M1B</td>\n",
       "      <td>43.806686</td>\n",
       "      <td>-79.194353</td>\n",
       "    </tr>\n",
       "    <tr>\n",
       "      <td>1</td>\n",
       "      <td>M1C</td>\n",
       "      <td>43.784535</td>\n",
       "      <td>-79.160497</td>\n",
       "    </tr>\n",
       "    <tr>\n",
       "      <td>2</td>\n",
       "      <td>M1E</td>\n",
       "      <td>43.763573</td>\n",
       "      <td>-79.188711</td>\n",
       "    </tr>\n",
       "    <tr>\n",
       "      <td>3</td>\n",
       "      <td>M1G</td>\n",
       "      <td>43.770992</td>\n",
       "      <td>-79.216917</td>\n",
       "    </tr>\n",
       "    <tr>\n",
       "      <td>4</td>\n",
       "      <td>M1H</td>\n",
       "      <td>43.773136</td>\n",
       "      <td>-79.239476</td>\n",
       "    </tr>\n",
       "  </tbody>\n",
       "</table>\n",
       "</div>"
      ],
      "text/plain": [
       "  PostalCode   Latitude  Longitude\n",
       "0        M1B  43.806686 -79.194353\n",
       "1        M1C  43.784535 -79.160497\n",
       "2        M1E  43.763573 -79.188711\n",
       "3        M1G  43.770992 -79.216917\n",
       "4        M1H  43.773136 -79.239476"
      ]
     },
     "execution_count": 11,
     "metadata": {},
     "output_type": "execute_result"
    }
   ],
   "source": [
    "coords.head()"
   ]
  },
  {
   "cell_type": "code",
   "execution_count": 12,
   "metadata": {},
   "outputs": [
    {
     "data": {
      "text/plain": [
       "(103, 3)"
      ]
     },
     "execution_count": 12,
     "metadata": {},
     "output_type": "execute_result"
    }
   ],
   "source": [
    "coords.shape"
   ]
  },
  {
   "cell_type": "code",
   "execution_count": 13,
   "metadata": {},
   "outputs": [
    {
     "data": {
      "text/html": [
       "<div>\n",
       "<style scoped>\n",
       "    .dataframe tbody tr th:only-of-type {\n",
       "        vertical-align: middle;\n",
       "    }\n",
       "\n",
       "    .dataframe tbody tr th {\n",
       "        vertical-align: top;\n",
       "    }\n",
       "\n",
       "    .dataframe thead th {\n",
       "        text-align: right;\n",
       "    }\n",
       "</style>\n",
       "<table border=\"1\" class=\"dataframe\">\n",
       "  <thead>\n",
       "    <tr style=\"text-align: right;\">\n",
       "      <th></th>\n",
       "      <th>PostalCode</th>\n",
       "      <th>Borough</th>\n",
       "      <th>Neighbourhood</th>\n",
       "      <th>Latitude</th>\n",
       "      <th>Longitude</th>\n",
       "    </tr>\n",
       "  </thead>\n",
       "  <tbody>\n",
       "    <tr>\n",
       "      <td>0</td>\n",
       "      <td>M1B</td>\n",
       "      <td>Scarborough</td>\n",
       "      <td>Rouge,Malvern</td>\n",
       "      <td>43.806686</td>\n",
       "      <td>-79.194353</td>\n",
       "    </tr>\n",
       "    <tr>\n",
       "      <td>1</td>\n",
       "      <td>M1C</td>\n",
       "      <td>Scarborough</td>\n",
       "      <td>Highland Creek,Rouge Hill,Port Union</td>\n",
       "      <td>43.784535</td>\n",
       "      <td>-79.160497</td>\n",
       "    </tr>\n",
       "    <tr>\n",
       "      <td>2</td>\n",
       "      <td>M1E</td>\n",
       "      <td>Scarborough</td>\n",
       "      <td>Guildwood,Morningside,West Hill</td>\n",
       "      <td>43.763573</td>\n",
       "      <td>-79.188711</td>\n",
       "    </tr>\n",
       "    <tr>\n",
       "      <td>3</td>\n",
       "      <td>M1G</td>\n",
       "      <td>Scarborough</td>\n",
       "      <td>Woburn</td>\n",
       "      <td>43.770992</td>\n",
       "      <td>-79.216917</td>\n",
       "    </tr>\n",
       "    <tr>\n",
       "      <td>4</td>\n",
       "      <td>M1H</td>\n",
       "      <td>Scarborough</td>\n",
       "      <td>Cedarbrae</td>\n",
       "      <td>43.773136</td>\n",
       "      <td>-79.239476</td>\n",
       "    </tr>\n",
       "  </tbody>\n",
       "</table>\n",
       "</div>"
      ],
      "text/plain": [
       "  PostalCode      Borough                         Neighbourhood   Latitude  \\\n",
       "0        M1B  Scarborough                         Rouge,Malvern  43.806686   \n",
       "1        M1C  Scarborough  Highland Creek,Rouge Hill,Port Union  43.784535   \n",
       "2        M1E  Scarborough       Guildwood,Morningside,West Hill  43.763573   \n",
       "3        M1G  Scarborough                                Woburn  43.770992   \n",
       "4        M1H  Scarborough                             Cedarbrae  43.773136   \n",
       "\n",
       "   Longitude  \n",
       "0 -79.194353  \n",
       "1 -79.160497  \n",
       "2 -79.188711  \n",
       "3 -79.216917  \n",
       "4 -79.239476  "
      ]
     },
     "execution_count": 13,
     "metadata": {},
     "output_type": "execute_result"
    }
   ],
   "source": [
    "#add lat/longitude to the postal_frame_clean frame\n",
    "\n",
    "toronto_df = pd.merge(postal_frame_clean, coords, on = 'PostalCode' )\n",
    "toronto_df.head()\n"
   ]
  },
  {
   "cell_type": "code",
   "execution_count": 14,
   "metadata": {},
   "outputs": [
    {
     "data": {
      "text/html": [
       "<div>\n",
       "<style scoped>\n",
       "    .dataframe tbody tr th:only-of-type {\n",
       "        vertical-align: middle;\n",
       "    }\n",
       "\n",
       "    .dataframe tbody tr th {\n",
       "        vertical-align: top;\n",
       "    }\n",
       "\n",
       "    .dataframe thead th {\n",
       "        text-align: right;\n",
       "    }\n",
       "</style>\n",
       "<table border=\"1\" class=\"dataframe\">\n",
       "  <thead>\n",
       "    <tr style=\"text-align: right;\">\n",
       "      <th></th>\n",
       "      <th>PostalCode</th>\n",
       "      <th>Borough</th>\n",
       "      <th>Neighbourhood</th>\n",
       "      <th>Latitude</th>\n",
       "      <th>Longitude</th>\n",
       "    </tr>\n",
       "  </thead>\n",
       "  <tbody>\n",
       "    <tr>\n",
       "      <td>0</td>\n",
       "      <td>M1B</td>\n",
       "      <td>Scarborough</td>\n",
       "      <td>Rouge,Malvern</td>\n",
       "      <td>43.806686</td>\n",
       "      <td>-79.194353</td>\n",
       "    </tr>\n",
       "    <tr>\n",
       "      <td>1</td>\n",
       "      <td>M1C</td>\n",
       "      <td>Scarborough</td>\n",
       "      <td>Highland Creek,Rouge Hill,Port Union</td>\n",
       "      <td>43.784535</td>\n",
       "      <td>-79.160497</td>\n",
       "    </tr>\n",
       "    <tr>\n",
       "      <td>2</td>\n",
       "      <td>M1E</td>\n",
       "      <td>Scarborough</td>\n",
       "      <td>Guildwood,Morningside,West Hill</td>\n",
       "      <td>43.763573</td>\n",
       "      <td>-79.188711</td>\n",
       "    </tr>\n",
       "    <tr>\n",
       "      <td>3</td>\n",
       "      <td>M1G</td>\n",
       "      <td>Scarborough</td>\n",
       "      <td>Woburn</td>\n",
       "      <td>43.770992</td>\n",
       "      <td>-79.216917</td>\n",
       "    </tr>\n",
       "    <tr>\n",
       "      <td>4</td>\n",
       "      <td>M1H</td>\n",
       "      <td>Scarborough</td>\n",
       "      <td>Cedarbrae</td>\n",
       "      <td>43.773136</td>\n",
       "      <td>-79.239476</td>\n",
       "    </tr>\n",
       "    <tr>\n",
       "      <td>...</td>\n",
       "      <td>...</td>\n",
       "      <td>...</td>\n",
       "      <td>...</td>\n",
       "      <td>...</td>\n",
       "      <td>...</td>\n",
       "    </tr>\n",
       "    <tr>\n",
       "      <td>98</td>\n",
       "      <td>M9N</td>\n",
       "      <td>York</td>\n",
       "      <td>Weston</td>\n",
       "      <td>43.706876</td>\n",
       "      <td>-79.518188</td>\n",
       "    </tr>\n",
       "    <tr>\n",
       "      <td>99</td>\n",
       "      <td>M9P</td>\n",
       "      <td>Etobicoke</td>\n",
       "      <td>Westmount</td>\n",
       "      <td>43.696319</td>\n",
       "      <td>-79.532242</td>\n",
       "    </tr>\n",
       "    <tr>\n",
       "      <td>100</td>\n",
       "      <td>M9R</td>\n",
       "      <td>Etobicoke</td>\n",
       "      <td>Kingsview Village,Martin Grove Gardens,Richvie...</td>\n",
       "      <td>43.688905</td>\n",
       "      <td>-79.554724</td>\n",
       "    </tr>\n",
       "    <tr>\n",
       "      <td>101</td>\n",
       "      <td>M9V</td>\n",
       "      <td>Etobicoke</td>\n",
       "      <td>Albion Gardens,Beaumond Heights,Humbergate,Jam...</td>\n",
       "      <td>43.739416</td>\n",
       "      <td>-79.588437</td>\n",
       "    </tr>\n",
       "    <tr>\n",
       "      <td>102</td>\n",
       "      <td>M9W</td>\n",
       "      <td>Etobicoke</td>\n",
       "      <td>Northwest</td>\n",
       "      <td>43.706748</td>\n",
       "      <td>-79.594054</td>\n",
       "    </tr>\n",
       "  </tbody>\n",
       "</table>\n",
       "<p>103 rows × 5 columns</p>\n",
       "</div>"
      ],
      "text/plain": [
       "    PostalCode      Borough  \\\n",
       "0          M1B  Scarborough   \n",
       "1          M1C  Scarborough   \n",
       "2          M1E  Scarborough   \n",
       "3          M1G  Scarborough   \n",
       "4          M1H  Scarborough   \n",
       "..         ...          ...   \n",
       "98         M9N         York   \n",
       "99         M9P    Etobicoke   \n",
       "100        M9R    Etobicoke   \n",
       "101        M9V    Etobicoke   \n",
       "102        M9W    Etobicoke   \n",
       "\n",
       "                                         Neighbourhood   Latitude  Longitude  \n",
       "0                                        Rouge,Malvern  43.806686 -79.194353  \n",
       "1                 Highland Creek,Rouge Hill,Port Union  43.784535 -79.160497  \n",
       "2                      Guildwood,Morningside,West Hill  43.763573 -79.188711  \n",
       "3                                               Woburn  43.770992 -79.216917  \n",
       "4                                            Cedarbrae  43.773136 -79.239476  \n",
       "..                                                 ...        ...        ...  \n",
       "98                                              Weston  43.706876 -79.518188  \n",
       "99                                           Westmount  43.696319 -79.532242  \n",
       "100  Kingsview Village,Martin Grove Gardens,Richvie...  43.688905 -79.554724  \n",
       "101  Albion Gardens,Beaumond Heights,Humbergate,Jam...  43.739416 -79.588437  \n",
       "102                                          Northwest  43.706748 -79.594054  \n",
       "\n",
       "[103 rows x 5 columns]"
      ]
     },
     "execution_count": 14,
     "metadata": {},
     "output_type": "execute_result"
    }
   ],
   "source": [
    "toronto_df"
   ]
  },
  {
   "cell_type": "markdown",
   "metadata": {},
   "source": [
    "<a id='item5'></a>"
   ]
  },
  {
   "cell_type": "markdown",
   "metadata": {},
   "source": [
    "# Analysis of Toronto Neighborhoods (Submission 3)"
   ]
  },
  {
   "cell_type": "markdown",
   "metadata": {},
   "source": [
    "### Import modules needed for data exploration"
   ]
  },
  {
   "cell_type": "code",
   "execution_count": 15,
   "metadata": {},
   "outputs": [
    {
     "name": "stdout",
     "output_type": "stream",
     "text": [
      "Collecting package metadata (repodata.json): ...working... done\n",
      "Solving environment: ...working... \n",
      "Warning: >10 possible package resolutions (only showing differing packages):\n",
      "  - https://repo.continuum.io/pkgs/main/win-64/conda-build-3.4.1-py36_0.tar.bz2::conda-build-3.4.1-py36_0, https://repo.continuum.io/pkgs/main/win-64/et_xmlfile-1.0.1-py36h3d2d736_0.tar.bz2::et_xmlfile-1.0.1-py36h3d2d736_0, https://repo.continuum.io/pkgs/main/win-64/icu-58.2-ha66f8fd_1.tar.bz2::icu-58.2-ha66f8fd_1, https://repo.continuum.io/pkgs/main/win-64/xlwt-1.3.0-py36h1a4751e_0.tar.bz2::xlwt-1.3.0-py36h1a4751e_0\n",
      "  - defaults::conda-build-3.4.1-py36_0, https://repo.continuum.io/pkgs/main/win-64/et_xmlfile-1.0.1-py36h3d2d736_0.tar.bz2::et_xmlfile-1.0.1-py36h3d2d736_0, https://repo.continuum.io/pkgs/main/win-64/icu-58.2-ha66f8fd_1.tar.bz2::icu-58.2-ha66f8fd_1, https://repo.continuum.io/pkgs/main/win-64/xlwt-1.3.0-py36h1a4751e_0.tar.bz2::xlwt-1.3.0-py36h1a4751e_0\n",
      "  - defaults::et_xmlfile-1.0.1-py36h3d2d736_0, https://repo.continuum.io/pkgs/main/win-64/conda-build-3.4.1-py36_0.tar.bz2::conda-build-3.4.1-py36_0, https://repo.continuum.io/pkgs/main/win-64/icu-58.2-ha66f8fd_1.tar.bz2::icu-58.2-ha66f8fd_1, https://repo.continuum.io/pkgs/main/win-64/xlwt-1.3.0-py36h1a4751e_0.tar.bz2::xlwt-1.3.0-py36h1a4751e_0\n",
      "  - defaults::conda-build-3.4.1-py36_0, defaults::et_xmlfile-1.0.1-py36h3d2d736_0, https://repo.continuum.io/pkgs/main/win-64/icu-58.2-ha66f8fd_1.tar.bz2::icu-58.2-ha66f8fd_1, https://repo.continuum.io/pkgs/main/win-64/xlwt-1.3.0-py36h1a4751e_0.tar.bz2::xlwt-1.3.0-py36h1a4751e_0\n",
      "  - defaults::et_xmlfile-1.0.1-py36h3d2d736_0, defaults::xlwt-1.3.0-py36h1a4751e_0, https://repo.continuum.io/pkgs/main/win-64/conda-build-3.4.1-py36_0.tar.bz2::conda-build-3.4.1-py36_0, https://repo.continuum.io/pkgs/main/win-64/icu-58.2-ha66f8fd_1.tar.bz2::icu-58.2-ha66f8fd_1\n",
      "  - defaults::conda-build-3.4.1-py36_0, defaults::et_xmlfile-1.0.1-py36h3d2d736_0, defaults::xlwt-1.3.0-py36h1a4751e_0, https://repo.continuum.io/pkgs/main/win-64/icu-58.2-ha66f8fd_1.tar.bz2::icu-58.2-ha66f8fd_1\n",
      "  - defaults::xlwt-1.3.0-py36h1a4751e_0, https://repo.continuum.io/pkgs/main/win-64/conda-build-3.4.1-py36_0.tar.bz2::conda-build-3.4.1-py36_0, https://repo.continuum.io/pkgs/main/win-64/et_xmlfile-1.0.1-py36h3d2d736_0.tar.bz2::et_xmlfile-1.0.1-py36h3d2d736_0, https://repo.continuum.io/pkgs/main/win-64/icu-58.2-ha66f8fd_1.tar.bz2::icu-58.2-ha66f8fd_1\n",
      "  - defaults::conda-build-3.4.1-py36_0, defaults::xlwt-1.3.0-py36h1a4751e_0, https://repo.continuum.io/pkgs/main/win-64/et_xmlfile-1.0.1-py36h3d2d736_0.tar.bz2::et_xmlfile-1.0.1-py36h3d2d736_0, https://repo.continuum.io/pkgs/main/win-64/icu-58.2-ha66f8fd_1.tar.bz2::icu-58.2-ha66f8fd_1\n",
      "  - defaults::icu-58.2-ha66f8fd_1, defaults::xlwt-1.3.0-py36h1a4751e_0, https://repo.continuum.io/pkgs/main/win-64/conda-build-3.4.1-py36_0.tar.bz2::conda-build-3.4.1-py36_0, https://repo.continuum.io/pkgs/main/win-64/et_xmlfile-1.0.1-py36h3d2d736_0.tar.bz2::et_xmlfile-1.0.1-py36h3d2d736_0\n",
      "  - defaults::icu-58.2-ha66f8fd_1, https://repo.continuum.io/pkgs/main/win-64/conda-build-3.4.1-py36_0.tar.bz2::conda-build-3.4.1-py36_0, https://repo.continuum.io/pkgs/main/win-64/et_xmlfile-1.0.1-py36h3d2d736_0.tar.bz2::et_xmlfile-1.0.1-py36h3d2d736_0, https://repo.continuum.io/pkgs/main/win-64/xlwt-1.3.0-py36h1a4751e_0.tar.bz2::xlwt-1.3.0-py36h1a4751e_0\n",
      "  ... and othersdone\n",
      "\n",
      "# All requested packages already installed.\n",
      "\n"
     ]
    }
   ],
   "source": [
    "# Matplotlib and associated plotting modules\n",
    "import matplotlib.cm as cm\n",
    "import matplotlib.colors as colors\n",
    "\n",
    "# import k-means from clustering stage\n",
    "from sklearn.cluster import KMeans\n",
    "\n",
    "!conda install -c conda-forge folium=0.5.0 --yes \n",
    "\n",
    "import folium # map rendering library\n",
    "\n"
   ]
  },
  {
   "cell_type": "code",
   "execution_count": null,
   "metadata": {},
   "outputs": [],
   "source": [
    "## Foursquare Credentials - to Be hidden/deleted in public Github\n",
    "\n"
   ]
  },
  {
   "cell_type": "code",
   "execution_count": null,
   "metadata": {},
   "outputs": [],
   "source": []
  },
  {
   "cell_type": "code",
   "execution_count": 23,
   "metadata": {},
   "outputs": [
    {
     "name": "stdout",
     "output_type": "stream",
     "text": [
      "Neighborhood:  Rouge,Malvern /Borough:  Scarborough /Lat:  43.806686299999996 /Long:  -79.19435340000001\n",
      "Neighborhood:  Highland Creek,Rouge Hill,Port Union /Borough:  Scarborough /Lat:  43.7845351 /Long:  -79.16049709999999\n",
      "Neighborhood:  Guildwood,Morningside,West Hill /Borough:  Scarborough /Lat:  43.7635726 /Long:  -79.1887115\n",
      "Neighborhood:  Woburn /Borough:  Scarborough /Lat:  43.7709921 /Long:  -79.21691740000001\n",
      "Neighborhood:  Cedarbrae /Borough:  Scarborough /Lat:  43.773136 /Long:  -79.23947609999999\n",
      "Neighborhood:  Scarborough Village /Borough:  Scarborough /Lat:  43.7447342 /Long:  -79.23947609999999\n",
      "Neighborhood:  East Birchmount Park,Ionview,Kennedy Park /Borough:  Scarborough /Lat:  43.7279292 /Long:  -79.26202940000002\n",
      "Neighborhood:  Clairlea,Golden Mile,Oakridge /Borough:  Scarborough /Lat:  43.711111700000004 /Long:  -79.2845772\n",
      "Neighborhood:  Cliffcrest,Cliffside,Scarborough Village West /Borough:  Scarborough /Lat:  43.716316 /Long:  -79.23947609999999\n",
      "Neighborhood:  Birch Cliff,Cliffside West /Borough:  Scarborough /Lat:  43.692657000000004 /Long:  -79.2648481\n",
      "Neighborhood:  Dorset Park,Scarborough Town Centre,Wexford Heights /Borough:  Scarborough /Lat:  43.7574096 /Long:  -79.27330400000001\n",
      "Neighborhood:  Maryvale,Wexford /Borough:  Scarborough /Lat:  43.750071500000004 /Long:  -79.2958491\n",
      "Neighborhood:  Agincourt /Borough:  Scarborough /Lat:  43.7942003 /Long:  -79.26202940000002\n",
      "Neighborhood:  Clarks Corners,Sullivan,Tam O'Shanter /Borough:  Scarborough /Lat:  43.7816375 /Long:  -79.3043021\n",
      "Neighborhood:  Agincourt North,L'Amoreaux East,Milliken,Steeles East /Borough:  Scarborough /Lat:  43.8152522 /Long:  -79.2845772\n",
      "Neighborhood:  L'Amoreaux West /Borough:  Scarborough /Lat:  43.799525200000005 /Long:  -79.3183887\n",
      "Neighborhood:  Upper Rouge /Borough:  Scarborough /Lat:  43.836124700000006 /Long:  -79.20563609999999\n",
      "Neighborhood:  Hillcrest Village /Borough:  North York /Lat:  43.8037622 /Long:  -79.3634517\n",
      "Neighborhood:  Fairview,Henry Farm,Oriole /Borough:  North York /Lat:  43.7785175 /Long:  -79.3465557\n",
      "Neighborhood:  Bayview Village /Borough:  North York /Lat:  43.7869473 /Long:  -79.385975\n",
      "Neighborhood:  Silver Hills,York Mills /Borough:  North York /Lat:  43.7574902 /Long:  -79.37471409999999\n",
      "Neighborhood:  Newtonbrook,Willowdale /Borough:  North York /Lat:  43.789053 /Long:  -79.40849279999999\n",
      "Neighborhood:  Willowdale South /Borough:  North York /Lat:  43.7701199 /Long:  -79.40849279999999\n",
      "Neighborhood:  York Mills West /Borough:  North York /Lat:  43.752758299999996 /Long:  -79.4000493\n",
      "Neighborhood:  Willowdale West /Borough:  North York /Lat:  43.7827364 /Long:  -79.4422593\n",
      "Neighborhood:  Parkwoods /Borough:  North York /Lat:  43.7532586 /Long:  -79.3296565\n",
      "Neighborhood:  Don Mills North /Borough:  North York /Lat:  43.745905799999996 /Long:  -79.352188\n",
      "Neighborhood:  Flemingdon Park,Don Mills South /Borough:  North York /Lat:  43.72589970000001 /Long:  -79.340923\n",
      "Neighborhood:  Bathurst Manor,Downsview North,Wilson Heights /Borough:  North York /Lat:  43.7543283 /Long:  -79.4422593\n",
      "Neighborhood:  Northwood Park,York University /Borough:  North York /Lat:  43.7679803 /Long:  -79.48726190000001\n",
      "Neighborhood:  CFB Toronto,Downsview East /Borough:  North York /Lat:  43.737473200000004 /Long:  -79.46476329999999\n",
      "Neighborhood:  Downsview West /Borough:  North York /Lat:  43.7390146 /Long:  -79.5069436\n",
      "Neighborhood:  Downsview Central /Borough:  North York /Lat:  43.7284964 /Long:  -79.49569740000001\n",
      "Neighborhood:  Downsview Northwest /Borough:  North York /Lat:  43.7616313 /Long:  -79.52099940000001\n",
      "Neighborhood:  Victoria Village /Borough:  North York /Lat:  43.725882299999995 /Long:  -79.31557159999998\n",
      "Neighborhood:  Woodbine Gardens,Parkview Hill /Borough:  East York /Lat:  43.7063972 /Long:  -79.309937\n",
      "Neighborhood:  Woodbine Heights /Borough:  East York /Lat:  43.695343900000005 /Long:  -79.3183887\n",
      "Neighborhood:  The Beaches /Borough:  East Toronto /Lat:  43.67635739999999 /Long:  -79.2930312\n",
      "Neighborhood:  Leaside /Borough:  East York /Lat:  43.7090604 /Long:  -79.3634517\n",
      "Neighborhood:  Thorncliffe Park /Borough:  East York /Lat:  43.7053689 /Long:  -79.34937190000001\n",
      "Neighborhood:  East Toronto /Borough:  East York /Lat:  43.685347 /Long:  -79.3381065\n",
      "Neighborhood:  The Danforth West,Riverdale /Borough:  East Toronto /Lat:  43.6795571 /Long:  -79.352188\n",
      "Neighborhood:  The Beaches West,India Bazaar /Borough:  East Toronto /Lat:  43.6689985 /Long:  -79.31557159999998\n",
      "Neighborhood:  Studio District /Borough:  East Toronto /Lat:  43.6595255 /Long:  -79.340923\n",
      "Neighborhood:  Lawrence Park /Borough:  Central Toronto /Lat:  43.7280205 /Long:  -79.3887901\n",
      "Neighborhood:  Davisville North /Borough:  Central Toronto /Lat:  43.7127511 /Long:  -79.3901975\n",
      "Neighborhood:  North Toronto West /Borough:  Central Toronto /Lat:  43.7153834 /Long:  -79.40567840000001\n",
      "Neighborhood:  Davisville /Borough:  Central Toronto /Lat:  43.7043244 /Long:  -79.3887901\n",
      "Neighborhood:  Moore Park,Summerhill East /Borough:  Central Toronto /Lat:  43.6895743 /Long:  -79.38315990000001\n",
      "Neighborhood:  Deer Park,Forest Hill SE,Rathnelly,South Hill,Summerhill West /Borough:  Central Toronto /Lat:  43.68641229999999 /Long:  -79.4000493\n",
      "Neighborhood:  Rosedale /Borough:  Downtown Toronto /Lat:  43.6795626 /Long:  -79.37752940000001\n",
      "Neighborhood:  Cabbagetown,St. James Town /Borough:  Downtown Toronto /Lat:  43.667967 /Long:  -79.3676753\n",
      "Neighborhood:  Church and Wellesley /Borough:  Downtown Toronto /Lat:  43.6658599 /Long:  -79.38315990000001\n",
      "Neighborhood:  Harbourfront,Regent Park /Borough:  Downtown Toronto /Lat:  43.6542599 /Long:  -79.3606359\n",
      "Neighborhood:  Ryerson,Garden District /Borough:  Downtown Toronto /Lat:  43.6571618 /Long:  -79.37893709999999\n",
      "Neighborhood:  St. James Town /Borough:  Downtown Toronto /Lat:  43.6514939 /Long:  -79.3754179\n",
      "Neighborhood:  Berczy Park /Borough:  Downtown Toronto /Lat:  43.644770799999996 /Long:  -79.3733064\n",
      "Neighborhood:  Central Bay Street /Borough:  Downtown Toronto /Lat:  43.6579524 /Long:  -79.3873826\n",
      "Neighborhood:  Adelaide,King,Richmond /Borough:  Downtown Toronto /Lat:  43.65057120000001 /Long:  -79.3845675\n",
      "Neighborhood:  Harbourfront East,Toronto Islands,Union Station /Borough:  Downtown Toronto /Lat:  43.6408157 /Long:  -79.38175229999999\n",
      "Neighborhood:  Design Exchange,Toronto Dominion Centre /Borough:  Downtown Toronto /Lat:  43.6471768 /Long:  -79.38157640000001\n",
      "Neighborhood:  Commerce Court,Victoria Hotel /Borough:  Downtown Toronto /Lat:  43.6481985 /Long:  -79.37981690000001\n",
      "Neighborhood:  Bedford Park,Lawrence Manor East /Borough:  North York /Lat:  43.7332825 /Long:  -79.4197497\n",
      "Neighborhood:  Roselawn /Borough:  Central Toronto /Lat:  43.7116948 /Long:  -79.41693559999999\n",
      "Neighborhood:  Forest Hill North,Forest Hill West /Borough:  Central Toronto /Lat:  43.6969476 /Long:  -79.41130720000001\n",
      "Neighborhood:  The Annex,North Midtown,Yorkville /Borough:  Central Toronto /Lat:  43.6727097 /Long:  -79.40567840000001\n",
      "Neighborhood:  Harbord,University of Toronto /Borough:  Downtown Toronto /Lat:  43.6626956 /Long:  -79.4000493\n",
      "Neighborhood:  Chinatown,Grange Park,Kensington Market /Borough:  Downtown Toronto /Lat:  43.6532057 /Long:  -79.4000493\n",
      "Neighborhood:  CN Tower,Bathurst Quay,Island airport,Harbourfront West,King and Spadina,Railway Lands,South Niagara /Borough:  Downtown Toronto /Lat:  43.6289467 /Long:  -79.3944199\n",
      "Neighborhood:  Stn A PO Boxes 25 The Esplanade /Borough:  Downtown Toronto /Lat:  43.6464352 /Long:  -79.37484599999999\n",
      "Neighborhood:  First Canadian Place,Underground city /Borough:  Downtown Toronto /Lat:  43.6484292 /Long:  -79.3822802\n",
      "Neighborhood:  Lawrence Heights,Lawrence Manor /Borough:  North York /Lat:  43.718517999999996 /Long:  -79.46476329999999\n",
      "Neighborhood:  Glencairn /Borough:  North York /Lat:  43.709577 /Long:  -79.44507259999999\n",
      "Neighborhood:  Humewood-Cedarvale /Borough:  York /Lat:  43.6937813 /Long:  -79.42819140000002\n",
      "Neighborhood:  Caledonia-Fairbanks /Borough:  York /Lat:  43.6890256 /Long:  -79.453512\n",
      "Neighborhood:  Christie /Borough:  Downtown Toronto /Lat:  43.669542 /Long:  -79.4225637\n",
      "Neighborhood:  Dovercourt Village,Dufferin /Borough:  West Toronto /Lat:  43.66900510000001 /Long:  -79.4422593\n",
      "Neighborhood:  Little Portugal,Trinity /Borough:  West Toronto /Lat:  43.647926700000006 /Long:  -79.4197497\n",
      "Neighborhood:  Brockton,Exhibition Place,Parkdale Village /Borough:  West Toronto /Lat:  43.6368472 /Long:  -79.42819140000002\n",
      "Neighborhood:  Downsview,North Park,Upwood Park /Borough:  North York /Lat:  43.713756200000006 /Long:  -79.4900738\n",
      "Neighborhood:  Del Ray,Keelesdale,Mount Dennis,Silverthorn /Borough:  York /Lat:  43.6911158 /Long:  -79.47601329999999\n",
      "Neighborhood:  The Junction North,Runnymede /Borough:  York /Lat:  43.67318529999999 /Long:  -79.48726190000001\n",
      "Neighborhood:  High Park,The Junction South /Borough:  West Toronto /Lat:  43.6616083 /Long:  -79.46476329999999\n",
      "Neighborhood:  Parkdale,Roncesvalles /Borough:  West Toronto /Lat:  43.6489597 /Long:  -79.456325\n",
      "Neighborhood:  Runnymede,Swansea /Borough:  West Toronto /Lat:  43.6515706 /Long:  -79.4844499\n",
      "Neighborhood:  Queen's Park /Borough:  Queen's Park /Lat:  43.6623015 /Long:  -79.3894938\n",
      "Neighborhood:  Canada Post Gateway Processing Centre /Borough:  Mississauga /Lat:  43.6369656 /Long:  -79.61581899999999\n",
      "Neighborhood:  Business Reply Mail Processing Centre 969 Eastern /Borough:  East Toronto /Lat:  43.6627439 /Long:  -79.321558\n",
      "Neighborhood:  Humber Bay Shores,Mimico South,New Toronto /Borough:  Etobicoke /Lat:  43.6056466 /Long:  -79.50132070000001\n",
      "Neighborhood:  Alderwood,Long Branch /Borough:  Etobicoke /Lat:  43.60241370000001 /Long:  -79.54348409999999\n",
      "Neighborhood:  The Kingsway,Montgomery Road,Old Mill North /Borough:  Etobicoke /Lat:  43.653653600000005 /Long:  -79.5069436\n",
      "Neighborhood:  Humber Bay,King's Mill Park,Kingsway Park South East,Mimico NE,Old Mill South,The Queensway East,Royal York South East,Sunnylea /Borough:  Etobicoke /Lat:  43.6362579 /Long:  -79.49850909999999\n",
      "Neighborhood:  Kingsway Park South West,Mimico NW,The Queensway West,Royal York South West,South of Bloor /Borough:  Etobicoke /Lat:  43.6288408 /Long:  -79.52099940000001\n",
      "Neighborhood:  Islington Avenue /Borough:  Etobicoke /Lat:  43.6678556 /Long:  -79.53224240000002\n",
      "Neighborhood:  Cloverdale,Islington,Martin Grove,Princess Gardens,West Deane Park /Borough:  Etobicoke /Lat:  43.6509432 /Long:  -79.55472440000001\n",
      "Neighborhood:  Bloordale Gardens,Eringate,Markland Wood,Old Burnhamthorpe /Borough:  Etobicoke /Lat:  43.6435152 /Long:  -79.57720079999999\n",
      "Neighborhood:  Humber Summit /Borough:  North York /Lat:  43.7563033 /Long:  -79.56596329999999\n",
      "Neighborhood:  Emery,Humberlea /Borough:  North York /Lat:  43.7247659 /Long:  -79.53224240000002\n",
      "Neighborhood:  Weston /Borough:  York /Lat:  43.706876 /Long:  -79.51818840000001\n",
      "Neighborhood:  Westmount /Borough:  Etobicoke /Lat:  43.696319 /Long:  -79.53224240000002\n",
      "Neighborhood:  Kingsview Village,Martin Grove Gardens,Richview Gardens,St. Phillips /Borough:  Etobicoke /Lat:  43.6889054 /Long:  -79.55472440000001\n",
      "Neighborhood:  Albion Gardens,Beaumond Heights,Humbergate,Jamestown,Mount Olive,Silverstone,South Steeles,Thistletown /Borough:  Etobicoke /Lat:  43.739416399999996 /Long:  -79.5884369\n",
      "Neighborhood:  Northwest /Borough:  Etobicoke /Lat:  43.706748299999994 /Long:  -79.5940544\n"
     ]
    },
    {
     "data": {
      "text/html": [
       "<div style=\"width:100%;\"><div style=\"position:relative;width:100%;height:0;padding-bottom:60%;\"><iframe src=\"data:text/html;charset=utf-8;base64,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\" style=\"position:absolute;width:100%;height:100%;left:0;top:0;border:none !important;\" allowfullscreen webkitallowfullscreen mozallowfullscreen></iframe></div></div>"
      ],
      "text/plain": [
       "<folium.folium.Map at 0x2c3ca707400>"
      ]
     },
     "execution_count": 23,
     "metadata": {},
     "output_type": "execute_result"
    }
   ],
   "source": [
    "#Toronto Latitude/Longitude\n",
    "latitude = 43.653908\n",
    "longitude = -79.384293\n",
    "\n",
    "# create map of Toronto using latitude and longitude values\n",
    "map_toronto = folium.Map(location=[latitude, longitude], zoom_start=10)\n",
    "\n",
    "# add markers to map\n",
    "for lat, lng, borough, neighborhood in list(zip(toronto_df['Latitude'], toronto_df['Longitude'], toronto_df['Borough'], toronto_df['Neighbourhood'])):\n",
    "    print(\"Neighborhood: \", neighborhood, \"/Borough: \", borough, \"/Lat: \", lat, \"/Long: \", lng)\n",
    "    label = '{}, {}'.format(neighborhood, borough)\n",
    "    label = folium.Popup(label, parse_html=True)\n",
    "    folium.CircleMarker(\n",
    "        [lat, lng],\n",
    "        radius=5,\n",
    "        popup=label,\n",
    "        color='blue',\n",
    "        fill=True,\n",
    "        fill_color='#3186cc',\n",
    "        fill_opacity=0.7,\n",
    "        parse_html=False).add_to(map_toronto)  \n",
    "    \n",
    "map_toronto"
   ]
  },
  {
   "cell_type": "code",
   "execution_count": 18,
   "metadata": {},
   "outputs": [
    {
     "data": {
      "text/plain": [
       "[(43.806686299999996, -79.19435340000001, 'Scarborough', 'Rouge,Malvern'),\n",
       " (43.7845351,\n",
       "  -79.16049709999999,\n",
       "  'Scarborough',\n",
       "  'Highland Creek,Rouge Hill,Port Union'),\n",
       " (43.7635726, -79.1887115, 'Scarborough', 'Guildwood,Morningside,West Hill'),\n",
       " (43.7709921, -79.21691740000001, 'Scarborough', 'Woburn'),\n",
       " (43.773136, -79.23947609999999, 'Scarborough', 'Cedarbrae'),\n",
       " (43.7447342, -79.23947609999999, 'Scarborough', 'Scarborough Village'),\n",
       " (43.7279292,\n",
       "  -79.26202940000002,\n",
       "  'Scarborough',\n",
       "  'East Birchmount Park,Ionview,Kennedy Park'),\n",
       " (43.711111700000004,\n",
       "  -79.2845772,\n",
       "  'Scarborough',\n",
       "  'Clairlea,Golden Mile,Oakridge'),\n",
       " (43.716316,\n",
       "  -79.23947609999999,\n",
       "  'Scarborough',\n",
       "  'Cliffcrest,Cliffside,Scarborough Village West'),\n",
       " (43.692657000000004,\n",
       "  -79.2648481,\n",
       "  'Scarborough',\n",
       "  'Birch Cliff,Cliffside West'),\n",
       " (43.7574096,\n",
       "  -79.27330400000001,\n",
       "  'Scarborough',\n",
       "  'Dorset Park,Scarborough Town Centre,Wexford Heights'),\n",
       " (43.750071500000004, -79.2958491, 'Scarborough', 'Maryvale,Wexford'),\n",
       " (43.7942003, -79.26202940000002, 'Scarborough', 'Agincourt'),\n",
       " (43.7816375,\n",
       "  -79.3043021,\n",
       "  'Scarborough',\n",
       "  \"Clarks Corners,Sullivan,Tam O'Shanter\"),\n",
       " (43.8152522,\n",
       "  -79.2845772,\n",
       "  'Scarborough',\n",
       "  \"Agincourt North,L'Amoreaux East,Milliken,Steeles East\"),\n",
       " (43.799525200000005, -79.3183887, 'Scarborough', \"L'Amoreaux West\"),\n",
       " (43.836124700000006, -79.20563609999999, 'Scarborough', 'Upper Rouge'),\n",
       " (43.8037622, -79.3634517, 'North York', 'Hillcrest Village'),\n",
       " (43.7785175, -79.3465557, 'North York', 'Fairview,Henry Farm,Oriole'),\n",
       " (43.7869473, -79.385975, 'North York', 'Bayview Village'),\n",
       " (43.7574902, -79.37471409999999, 'North York', 'Silver Hills,York Mills'),\n",
       " (43.789053, -79.40849279999999, 'North York', 'Newtonbrook,Willowdale'),\n",
       " (43.7701199, -79.40849279999999, 'North York', 'Willowdale South'),\n",
       " (43.752758299999996, -79.4000493, 'North York', 'York Mills West'),\n",
       " (43.7827364, -79.4422593, 'North York', 'Willowdale West'),\n",
       " (43.7532586, -79.3296565, 'North York', 'Parkwoods'),\n",
       " (43.745905799999996, -79.352188, 'North York', 'Don Mills North'),\n",
       " (43.72589970000001,\n",
       "  -79.340923,\n",
       "  'North York',\n",
       "  'Flemingdon Park,Don Mills South'),\n",
       " (43.7543283,\n",
       "  -79.4422593,\n",
       "  'North York',\n",
       "  'Bathurst Manor,Downsview North,Wilson Heights'),\n",
       " (43.7679803,\n",
       "  -79.48726190000001,\n",
       "  'North York',\n",
       "  'Northwood Park,York University'),\n",
       " (43.737473200000004,\n",
       "  -79.46476329999999,\n",
       "  'North York',\n",
       "  'CFB Toronto,Downsview East'),\n",
       " (43.7390146, -79.5069436, 'North York', 'Downsview West'),\n",
       " (43.7284964, -79.49569740000001, 'North York', 'Downsview Central'),\n",
       " (43.7616313, -79.52099940000001, 'North York', 'Downsview Northwest'),\n",
       " (43.725882299999995, -79.31557159999998, 'North York', 'Victoria Village'),\n",
       " (43.7063972, -79.309937, 'East York', 'Woodbine Gardens,Parkview Hill'),\n",
       " (43.695343900000005, -79.3183887, 'East York', 'Woodbine Heights'),\n",
       " (43.67635739999999, -79.2930312, 'East Toronto', 'The Beaches'),\n",
       " (43.7090604, -79.3634517, 'East York', 'Leaside'),\n",
       " (43.7053689, -79.34937190000001, 'East York', 'Thorncliffe Park'),\n",
       " (43.685347, -79.3381065, 'East York', 'East Toronto'),\n",
       " (43.6795571, -79.352188, 'East Toronto', 'The Danforth West,Riverdale'),\n",
       " (43.6689985,\n",
       "  -79.31557159999998,\n",
       "  'East Toronto',\n",
       "  'The Beaches West,India Bazaar'),\n",
       " (43.6595255, -79.340923, 'East Toronto', 'Studio District'),\n",
       " (43.7280205, -79.3887901, 'Central Toronto', 'Lawrence Park'),\n",
       " (43.7127511, -79.3901975, 'Central Toronto', 'Davisville North'),\n",
       " (43.7153834, -79.40567840000001, 'Central Toronto', 'North Toronto West'),\n",
       " (43.7043244, -79.3887901, 'Central Toronto', 'Davisville'),\n",
       " (43.6895743,\n",
       "  -79.38315990000001,\n",
       "  'Central Toronto',\n",
       "  'Moore Park,Summerhill East'),\n",
       " (43.68641229999999,\n",
       "  -79.4000493,\n",
       "  'Central Toronto',\n",
       "  'Deer Park,Forest Hill SE,Rathnelly,South Hill,Summerhill West'),\n",
       " (43.6795626, -79.37752940000001, 'Downtown Toronto', 'Rosedale'),\n",
       " (43.667967, -79.3676753, 'Downtown Toronto', 'Cabbagetown,St. James Town'),\n",
       " (43.6658599, -79.38315990000001, 'Downtown Toronto', 'Church and Wellesley'),\n",
       " (43.6542599, -79.3606359, 'Downtown Toronto', 'Harbourfront,Regent Park'),\n",
       " (43.6571618,\n",
       "  -79.37893709999999,\n",
       "  'Downtown Toronto',\n",
       "  'Ryerson,Garden District'),\n",
       " (43.6514939, -79.3754179, 'Downtown Toronto', 'St. James Town'),\n",
       " (43.644770799999996, -79.3733064, 'Downtown Toronto', 'Berczy Park'),\n",
       " (43.6579524, -79.3873826, 'Downtown Toronto', 'Central Bay Street'),\n",
       " (43.65057120000001,\n",
       "  -79.3845675,\n",
       "  'Downtown Toronto',\n",
       "  'Adelaide,King,Richmond'),\n",
       " (43.6408157,\n",
       "  -79.38175229999999,\n",
       "  'Downtown Toronto',\n",
       "  'Harbourfront East,Toronto Islands,Union Station'),\n",
       " (43.6471768,\n",
       "  -79.38157640000001,\n",
       "  'Downtown Toronto',\n",
       "  'Design Exchange,Toronto Dominion Centre'),\n",
       " (43.6481985,\n",
       "  -79.37981690000001,\n",
       "  'Downtown Toronto',\n",
       "  'Commerce Court,Victoria Hotel'),\n",
       " (43.7332825, -79.4197497, 'North York', 'Bedford Park,Lawrence Manor East'),\n",
       " (43.7116948, -79.41693559999999, 'Central Toronto', 'Roselawn'),\n",
       " (43.6969476,\n",
       "  -79.41130720000001,\n",
       "  'Central Toronto',\n",
       "  'Forest Hill North,Forest Hill West'),\n",
       " (43.6727097,\n",
       "  -79.40567840000001,\n",
       "  'Central Toronto',\n",
       "  'The Annex,North Midtown,Yorkville'),\n",
       " (43.6626956,\n",
       "  -79.4000493,\n",
       "  'Downtown Toronto',\n",
       "  'Harbord,University of Toronto'),\n",
       " (43.6532057,\n",
       "  -79.4000493,\n",
       "  'Downtown Toronto',\n",
       "  'Chinatown,Grange Park,Kensington Market'),\n",
       " (43.6289467,\n",
       "  -79.3944199,\n",
       "  'Downtown Toronto',\n",
       "  'CN Tower,Bathurst Quay,Island airport,Harbourfront West,King and Spadina,Railway Lands,South Niagara'),\n",
       " (43.6464352,\n",
       "  -79.37484599999999,\n",
       "  'Downtown Toronto',\n",
       "  'Stn A PO Boxes 25 The Esplanade'),\n",
       " (43.6484292,\n",
       "  -79.3822802,\n",
       "  'Downtown Toronto',\n",
       "  'First Canadian Place,Underground city'),\n",
       " (43.718517999999996,\n",
       "  -79.46476329999999,\n",
       "  'North York',\n",
       "  'Lawrence Heights,Lawrence Manor'),\n",
       " (43.709577, -79.44507259999999, 'North York', 'Glencairn'),\n",
       " (43.6937813, -79.42819140000002, 'York', 'Humewood-Cedarvale'),\n",
       " (43.6890256, -79.453512, 'York', 'Caledonia-Fairbanks'),\n",
       " (43.669542, -79.4225637, 'Downtown Toronto', 'Christie'),\n",
       " (43.66900510000001,\n",
       "  -79.4422593,\n",
       "  'West Toronto',\n",
       "  'Dovercourt Village,Dufferin'),\n",
       " (43.647926700000006, -79.4197497, 'West Toronto', 'Little Portugal,Trinity'),\n",
       " (43.6368472,\n",
       "  -79.42819140000002,\n",
       "  'West Toronto',\n",
       "  'Brockton,Exhibition Place,Parkdale Village'),\n",
       " (43.713756200000006,\n",
       "  -79.4900738,\n",
       "  'North York',\n",
       "  'Downsview,North Park,Upwood Park'),\n",
       " (43.6911158,\n",
       "  -79.47601329999999,\n",
       "  'York',\n",
       "  'Del Ray,Keelesdale,Mount Dennis,Silverthorn'),\n",
       " (43.67318529999999,\n",
       "  -79.48726190000001,\n",
       "  'York',\n",
       "  'The Junction North,Runnymede'),\n",
       " (43.6616083,\n",
       "  -79.46476329999999,\n",
       "  'West Toronto',\n",
       "  'High Park,The Junction South'),\n",
       " (43.6489597, -79.456325, 'West Toronto', 'Parkdale,Roncesvalles'),\n",
       " (43.6515706, -79.4844499, 'West Toronto', 'Runnymede,Swansea'),\n",
       " (43.6623015, -79.3894938, \"Queen's Park\", \"Queen's Park\"),\n",
       " (43.6369656,\n",
       "  -79.61581899999999,\n",
       "  'Mississauga',\n",
       "  'Canada Post Gateway Processing Centre'),\n",
       " (43.6627439,\n",
       "  -79.321558,\n",
       "  'East Toronto',\n",
       "  'Business Reply Mail Processing Centre 969 Eastern'),\n",
       " (43.6056466,\n",
       "  -79.50132070000001,\n",
       "  'Etobicoke',\n",
       "  'Humber Bay Shores,Mimico South,New Toronto'),\n",
       " (43.60241370000001, -79.54348409999999, 'Etobicoke', 'Alderwood,Long Branch'),\n",
       " (43.653653600000005,\n",
       "  -79.5069436,\n",
       "  'Etobicoke',\n",
       "  'The Kingsway,Montgomery Road,Old Mill North'),\n",
       " (43.6362579,\n",
       "  -79.49850909999999,\n",
       "  'Etobicoke',\n",
       "  \"Humber Bay,King's Mill Park,Kingsway Park South East,Mimico NE,Old Mill South,The Queensway East,Royal York South East,Sunnylea\"),\n",
       " (43.6288408,\n",
       "  -79.52099940000001,\n",
       "  'Etobicoke',\n",
       "  'Kingsway Park South West,Mimico NW,The Queensway West,Royal York South West,South of Bloor'),\n",
       " (43.6678556, -79.53224240000002, 'Etobicoke', 'Islington Avenue'),\n",
       " (43.6509432,\n",
       "  -79.55472440000001,\n",
       "  'Etobicoke',\n",
       "  'Cloverdale,Islington,Martin Grove,Princess Gardens,West Deane Park'),\n",
       " (43.6435152,\n",
       "  -79.57720079999999,\n",
       "  'Etobicoke',\n",
       "  'Bloordale Gardens,Eringate,Markland Wood,Old Burnhamthorpe'),\n",
       " (43.7563033, -79.56596329999999, 'North York', 'Humber Summit'),\n",
       " (43.7247659, -79.53224240000002, 'North York', 'Emery,Humberlea'),\n",
       " (43.706876, -79.51818840000001, 'York', 'Weston'),\n",
       " (43.696319, -79.53224240000002, 'Etobicoke', 'Westmount'),\n",
       " (43.6889054,\n",
       "  -79.55472440000001,\n",
       "  'Etobicoke',\n",
       "  'Kingsview Village,Martin Grove Gardens,Richview Gardens,St. Phillips'),\n",
       " (43.739416399999996,\n",
       "  -79.5884369,\n",
       "  'Etobicoke',\n",
       "  'Albion Gardens,Beaumond Heights,Humbergate,Jamestown,Mount Olive,Silverstone,South Steeles,Thistletown'),\n",
       " (43.706748299999994, -79.5940544, 'Etobicoke', 'Northwest')]"
      ]
     },
     "execution_count": 18,
     "metadata": {},
     "output_type": "execute_result"
    }
   ],
   "source": [
    "list(zip(toronto_df['Latitude'], toronto_df['Longitude'], toronto_df['Borough'], toronto_df['Neighbourhood']))"
   ]
  },
  {
   "cell_type": "code",
   "execution_count": null,
   "metadata": {},
   "outputs": [],
   "source": []
  },
  {
   "cell_type": "code",
   "execution_count": null,
   "metadata": {},
   "outputs": [],
   "source": []
  },
  {
   "cell_type": "code",
   "execution_count": null,
   "metadata": {},
   "outputs": [],
   "source": []
  },
  {
   "cell_type": "markdown",
   "metadata": {},
   "source": [
    "## Explore DataNeighbourhood"
   ]
  },
  {
   "cell_type": "code",
   "execution_count": null,
   "metadata": {},
   "outputs": [],
   "source": []
  },
  {
   "cell_type": "code",
   "execution_count": null,
   "metadata": {},
   "outputs": [],
   "source": []
  },
  {
   "cell_type": "markdown",
   "metadata": {},
   "source": [
    "## Segment Data"
   ]
  },
  {
   "cell_type": "code",
   "execution_count": null,
   "metadata": {},
   "outputs": [],
   "source": []
  },
  {
   "cell_type": "code",
   "execution_count": null,
   "metadata": {},
   "outputs": [],
   "source": []
  },
  {
   "cell_type": "code",
   "execution_count": null,
   "metadata": {},
   "outputs": [],
   "source": []
  },
  {
   "cell_type": "code",
   "execution_count": null,
   "metadata": {},
   "outputs": [],
   "source": []
  },
  {
   "cell_type": "markdown",
   "metadata": {},
   "source": [
    "## Cluster Data"
   ]
  },
  {
   "cell_type": "code",
   "execution_count": null,
   "metadata": {},
   "outputs": [],
   "source": []
  },
  {
   "cell_type": "code",
   "execution_count": null,
   "metadata": {},
   "outputs": [],
   "source": []
  }
 ],
 "metadata": {
  "kernelspec": {
   "display_name": "Python 3",
   "language": "python",
   "name": "python3"
  },
  "language_info": {
   "codemirror_mode": {
    "name": "ipython",
    "version": 3
   },
   "file_extension": ".py",
   "mimetype": "text/x-python",
   "name": "python",
   "nbconvert_exporter": "python",
   "pygments_lexer": "ipython3",
   "version": "3.6.9"
  }
 },
 "nbformat": 4,
 "nbformat_minor": 4
}
